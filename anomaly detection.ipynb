{
 "cells": [
  {
   "cell_type": "markdown",
   "metadata": {},
   "source": [
    "# CIC-IDS2018 anomaly detection using scikit-learn"
   ]
  },
  {
   "cell_type": "markdown",
   "metadata": {},
   "source": [
    "目前打算做兩個方向\n",
    "1. 用常用於anomaly detection的方法，例如Isolation Forest, One-class SVM, Local Outlier Factor, Robust Covariance, Elliptic Envelope等等，來做anomaly detection\n",
    "2. 用常用於classification的方法，例如, XGBoost, KNN, Logistic Regression, catboost等等，結合起來做ensemble"
   ]
  },
  {
   "cell_type": "markdown",
   "metadata": {},
   "source": [
    "import modules"
   ]
  },
  {
   "cell_type": "code",
   "execution_count": 1,
   "metadata": {},
   "outputs": [],
   "source": [
    "# import packages\n",
    "import numpy as np\n",
    "import pandas as pd\n",
    "import matplotlib.pyplot as plt\n",
    "from sklearn.utils import resample\n",
    "from sklearn.model_selection import train_test_split\n",
    "from sklearn.preprocessing import StandardScaler, OneHotEncoder\n",
    "from sklearn.metrics import accuracy_score, confusion_matrix, classification_report, recall_score, precision_score, f1_score, roc_auc_score\n",
    "import seaborn as sns\n",
    "from catboost import CatBoostClassifier, cv, Pool\n"
   ]
  },
  {
   "cell_type": "markdown",
   "metadata": {},
   "source": [
    "## Load data"
   ]
  },
  {
   "cell_type": "markdown",
   "metadata": {},
   "source": [
    "因為記憶體的限制分成三個部份，分別是良好的與除了`02-20-2018.csv`的異常資料，以及`02-20-2018.csv`的異常資料。"
   ]
  },
  {
   "cell_type": "code",
   "execution_count": 2,
   "metadata": {},
   "outputs": [],
   "source": [
    "# def not_benign_load_data_and_concate():\n",
    "#     csv_list = [file for file in os.listdir(\"./\") if file.endswith('.csv') and file != 'all_not_benign_data.csv' and file != 'all_benign_data_sampled.csv' and file != 'all_not_benign_data_preprocessed.csv']\n",
    "#     df_list = []\n",
    "#     for i in csv_list:\n",
    "#         df = pd.read_csv(i, low_memory=False)\n",
    "#         if i == \"02-20-2018.csv\":\n",
    "#                 df.drop(columns=['Flow ID', 'Src IP', 'Src Port', 'Dst IP'], axis=1,inplace=True)\n",
    "#         df = df[df['Label'] != 'Benign']\n",
    "#         df_list.append(df)\n",
    "#     df = pd.concat(df_list, ignore_index=True)\n",
    "#     df.to_csv('all_not_benign_data.csv', index=False)\n",
    "#     print(df.info())\n",
    "#     print(df['Label'].value_counts())"
   ]
  },
  {
   "cell_type": "code",
   "execution_count": 3,
   "metadata": {},
   "outputs": [],
   "source": [
    "# not_benign_load_data_and_concate()"
   ]
  },
  {
   "cell_type": "code",
   "execution_count": 4,
   "metadata": {},
   "outputs": [],
   "source": [
    "# def benign_load_data_and_concate():\n",
    "#     csv_list = [file for file in os.listdir(\"./\") if file.endswith('.csv') and file != 'all_not_benign_data.csv' and file != 'all_benign_data_sampled.csv' and file != 'all_not_benign_data_preprocessed.csv']\n",
    "#     df_list = []\n",
    "#     count = 0\n",
    "#     for i in csv_list:\n",
    "#         df = pd.read_csv(i, low_memory=False)\n",
    "#         if i == \"02-20-2018.csv\":\n",
    "#                 df.drop(columns=['Flow ID', 'Src IP', 'Src Port', 'Dst IP'], axis=1,inplace=True)\n",
    "#         df = df[df['Label'] == 'Benign']\n",
    "#         df = df.sample(frac=0.3)\n",
    "#         df_list.append(df)\n",
    "#         for j in df_list:\n",
    "#             count += j.shape[0]\n",
    "#             if count > 2748293:\n",
    "#                 break\n",
    "#     df = pd.concat(df_list, ignore_index=True)\n",
    "#     df.to_csv('all_benign_data_sampled.csv', index=False)\n",
    "#     print(df.info())\n",
    "#     print(df['Label'].value_counts())"
   ]
  },
  {
   "cell_type": "code",
   "execution_count": 5,
   "metadata": {},
   "outputs": [],
   "source": [
    "# benign_load_data_and_concate()"
   ]
  },
  {
   "cell_type": "code",
   "execution_count": 6,
   "metadata": {},
   "outputs": [],
   "source": [
    "# df_benign = pd.read_csv('all_benign_data_sampled.csv', low_memory=False)\n",
    "# df_not_benign = pd.read_csv('all_not_benign_data.csv', low_memory=False)"
   ]
  },
  {
   "cell_type": "code",
   "execution_count": 7,
   "metadata": {},
   "outputs": [],
   "source": [
    "# df_merged = pd.concat([df_benign, df_not_benign], ignore_index=True)\n",
    "# df_merged.to_csv('all_data_merged.csv', index=False)"
   ]
  },
  {
   "cell_type": "markdown",
   "metadata": {},
   "source": [
    "## Data preprocessing"
   ]
  },
  {
   "cell_type": "code",
   "execution_count": 8,
   "metadata": {},
   "outputs": [],
   "source": [
    "# df_merged = pd.read_csv('all_data_merged.csv', low_memory=False)"
   ]
  },
  {
   "cell_type": "code",
   "execution_count": 9,
   "metadata": {},
   "outputs": [],
   "source": [
    "# def fixDataType(df):\n",
    "#     df = df[df['Dst Port'] != 'Dst Port']\n",
    "#     for i in df.columns:\n",
    "#         if i == 'Label' or i == 'Timestamp':\n",
    "#             continue\n",
    "#         try:\n",
    "#             df[i] = pd.to_numeric(df[i], downcast='integer')\n",
    "#         except ValueError:\n",
    "#             df[i] = pd.to_numeric(df[i], downcast='float')\n",
    "    \n",
    "#     return df"
   ]
  },
  {
   "cell_type": "code",
   "execution_count": 10,
   "metadata": {},
   "outputs": [],
   "source": [
    "# Note: This preprocessing function is two classes\n",
    "# def preprocess(df):\n",
    "#     # fix data type\n",
    "#     df = fixDataType(df)\n",
    "    \n",
    "#     # drop Label column if \"Label\" is in the column\n",
    "#     mask = df[\"Label\"] != \"Label\"\n",
    "#     df = df.drop(df[~mask].index)\n",
    "#     df.drop(df.loc[df['Label']=='Label'].index, inplace=True)\n",
    "    \n",
    "#     # drop timestamp\n",
    "#     df = df.drop(columns=[\"Timestamp\"], axis=1)\n",
    "    \n",
    "#     # replace infinity values with nan\n",
    "#     df = df.replace([\"Infinity\", \"infinity\"], np.inf)\n",
    "#     df.replace([np.inf, -np.inf], np.nan, inplace=True)\n",
    "#     df.dropna(inplace=True)\n",
    "    \n",
    "#     # drop constant columns\n",
    "#     variances = df.var(numeric_only=True)\n",
    "#     constant_columns = variances[variances == 0].index\n",
    "#     df = df.drop(constant_columns, axis=1)\n",
    "#     print(\"Constant columns: \", constant_columns)\n",
    "    \n",
    "#     stds = df.std(numeric_only=True)\n",
    "#     constant_columns = stds[stds == 0].index\n",
    "#     df = df.drop(constant_columns, axis=1)\n",
    "#     print(\"std columns: \", constant_columns)\n",
    "    \n",
    "#     unique_counts = df.nunique()\n",
    "#     constant_columns = unique_counts[unique_counts == 1].index\n",
    "#     df = df.drop(constant_columns, axis=1)\n",
    "#     print(\"Constant columns: \", constant_columns)\n",
    "    \n",
    "#     # drop duplicate columns\n",
    "#     duplicates = set()\n",
    "#     for i in range(0, len(df.columns)):\n",
    "#         col1 = df.columns[i]\n",
    "#         for j in range(i+1, len(df.columns)):\n",
    "#             col2 = df.columns[j]\n",
    "#             if(df[col1].equals(df[col2])):\n",
    "#                 duplicates.add(col2)\n",
    "\n",
    "#     print(\"duplicates\", duplicates)\n",
    "#     df.drop(duplicates, axis=1, inplace=True)\n",
    "#     print(df.shape)\n",
    "    \n",
    "\n",
    "#     # convert label to binary\n",
    "#     df['Label'] = df['Label'].apply(lambda x: 1 if x != 'Benign' else 0)\n",
    "    \n",
    "#     return df"
   ]
  },
  {
   "cell_type": "code",
   "execution_count": 11,
   "metadata": {},
   "outputs": [],
   "source": [
    "# df_merged = preprocess(df_merged)\n",
    "# df_merged.shape"
   ]
  },
  {
   "cell_type": "code",
   "execution_count": 12,
   "metadata": {},
   "outputs": [],
   "source": [
    "# df_merged.info()"
   ]
  },
  {
   "cell_type": "code",
   "execution_count": 13,
   "metadata": {},
   "outputs": [],
   "source": [
    "# df_merged['Label'].value_counts()"
   ]
  },
  {
   "cell_type": "code",
   "execution_count": 14,
   "metadata": {},
   "outputs": [],
   "source": [
    "# # 將多數類別的樣本數減少到和少數類別的樣本數相等\n",
    "# df_majority = df_merged[df_merged['Label'] == 0]\n",
    "# df_minority = df_merged[df_merged['Label'] == 1]\n",
    "# df_majority_downsampled = resample(df_majority, \n",
    "#                                    replace=False,    # 不放回抽樣\n",
    "#                                    n_samples=len(df_minority),    # 抽樣數量等於少數類別的樣本數\n",
    "#                                    random_state=42)  # 設定隨機種子，以便重現結果\n",
    "\n",
    "# # 將少數類別和下採樣後的多數類別合併\n",
    "# df_downsampled = pd.concat([df_majority_downsampled, df_minority])\n",
    "\n",
    "# # 打亂資料集\n",
    "# df_downsampled = df_downsampled.sample(frac=1, random_state=42)"
   ]
  },
  {
   "cell_type": "code",
   "execution_count": 15,
   "metadata": {},
   "outputs": [],
   "source": [
    "# df_downsampled['Label'].value_counts()"
   ]
  },
  {
   "cell_type": "code",
   "execution_count": 16,
   "metadata": {},
   "outputs": [],
   "source": [
    "# df_downsampled.to_csv('all_data_merged_preprocessed.csv', index=False)"
   ]
  },
  {
   "cell_type": "code",
   "execution_count": 17,
   "metadata": {},
   "outputs": [],
   "source": [
    "# df_merged = pd.read_csv('all_data_merged_preprocessed.csv', low_memory=False)"
   ]
  },
  {
   "cell_type": "code",
   "execution_count": 18,
   "metadata": {},
   "outputs": [],
   "source": [
    "# plt.figure(figsize=(70, 70))\n",
    "# corr = df_merged.corr(numeric_only=True)\n",
    "# sns.heatmap(corr, annot=True, cmap='RdBu') # annot=True\n",
    "# plt.show()"
   ]
  },
  {
   "cell_type": "code",
   "execution_count": 19,
   "metadata": {},
   "outputs": [],
   "source": [
    "# correlated_col = set()\n",
    "# corr = df_merged.corr(numeric_only=True)\n",
    "# is_correlated = [True] * len(corr.columns)\n",
    "# threshold = 0.70\n",
    "# for i in range (len(corr.columns)):\n",
    "#     if(is_correlated[i]):\n",
    "#         for j in range(i):\n",
    "#           if (corr.iloc[i, j] >= threshold) and (is_correlated[j]):\n",
    "#             colname = corr.columns[j]\n",
    "#             is_correlated[j]=False\n",
    "#             correlated_col.add(colname)\n",
    "\n",
    "\n",
    "# print(correlated_col)\n",
    "# print(len(correlated_col))"
   ]
  },
  {
   "cell_type": "code",
   "execution_count": 20,
   "metadata": {},
   "outputs": [],
   "source": [
    "# df_merged.drop(correlated_col, axis=1, inplace=True)\n",
    "# print(df_merged.shape)"
   ]
  },
  {
   "cell_type": "code",
   "execution_count": 21,
   "metadata": {},
   "outputs": [],
   "source": [
    "# # pearson correlation heatmap\n",
    "# plt.figure(figsize=(70, 70))\n",
    "# corr = df_merged.corr(numeric_only=True)\n",
    "# sns.heatmap(corr, annot=True, cmap='RdBu') # annot=True\n",
    "# plt.show()"
   ]
  },
  {
   "cell_type": "code",
   "execution_count": 22,
   "metadata": {},
   "outputs": [],
   "source": [
    "# df_merged.to_csv('all_data_merged_completed.csv', index=False)"
   ]
  },
  {
   "cell_type": "code",
   "execution_count": 23,
   "metadata": {},
   "outputs": [],
   "source": [
    "df_merged = pd.read_csv(\"all_data_merged_selected.csv\")"
   ]
  },
  {
   "cell_type": "code",
   "execution_count": 24,
   "metadata": {},
   "outputs": [],
   "source": [
    "df_merged[\"Dst Port\"] = df_merged[\"Dst Port\"].astype(\"category\")"
   ]
  },
  {
   "cell_type": "code",
   "execution_count": 25,
   "metadata": {},
   "outputs": [],
   "source": [
    "X = df_merged.drop(columns=\"Label\", axis=1)\n",
    "y = df_merged[\"Label\"]\n",
    "X_train, X_test, y_train, y_test = train_test_split(X, y, test_size=0.4, random_state=42, shuffle=True, stratify=y)"
   ]
  },
  {
   "cell_type": "code",
   "execution_count": 26,
   "metadata": {},
   "outputs": [
    {
     "data": {
      "application/vnd.jupyter.widget-view+json": {
       "model_id": "d8a3c8d94e784ed1ad8ffeb618ee88c2",
       "version_major": 2,
       "version_minor": 0
      },
      "text/plain": [
       "MetricVisualizer(layout=Layout(align_self='stretch', height='500px'))"
      ]
     },
     "metadata": {},
     "output_type": "display_data"
    },
    {
     "data": {
      "text/plain": [
       "<catboost.core.CatBoostClassifier at 0x7fdc91217c40>"
      ]
     },
     "execution_count": 26,
     "metadata": {},
     "output_type": "execute_result"
    }
   ],
   "source": [
    "# create a CatBoostClassifier object\n",
    "clf_selected = CatBoostClassifier(eval_metric='AUC', random_seed=42, logging_level='Silent', iterations=500, learning_rate=0.5, depth=5, l2_leaf_reg=3)\n",
    "\n",
    "# fit the classifier to the training data\n",
    "clf_selected.fit(X_train, y_train, cat_features=[\"Dst Port\"],plot=True, verbose=False, eval_set=(X_test, y_test), early_stopping_rounds=10, use_best_model=True)"
   ]
  },
  {
   "cell_type": "code",
   "execution_count": 28,
   "metadata": {},
   "outputs": [
    {
     "name": "stdout",
     "output_type": "stream",
     "text": [
      "Accuracy score:  0.9750353575894588\n",
      "Confusion matrix: \n",
      " [[1093125    5649]\n",
      " [  49212 1049562]]\n",
      "Classification report: \n",
      "               precision    recall  f1-score   support\n",
      "\n",
      "           0       0.96      0.99      0.98   1098774\n",
      "           1       0.99      0.96      0.97   1098774\n",
      "\n",
      "    accuracy                           0.98   2197548\n",
      "   macro avg       0.98      0.98      0.98   2197548\n",
      "weighted avg       0.98      0.98      0.98   2197548\n",
      "\n",
      "Precision score:  0.9946465683166684\n",
      "Recall score:  0.9552118998083319\n",
      "F1 score:  0.974530463304062\n",
      "ROC - AUC score:  0.9883729011706205\n"
     ]
    },
    {
     "data": {
      "image/png": "[encoded data removed]",
      "text/plain": [
       "<Figure size 500x500 with 1 Axes>"
      ]
     },
     "metadata": {},
     "output_type": "display_data"
    },
    {
     "data": {
      "image/png": "[encoded data removed]",
      "text/plain": [
       "<Figure size 1000x1000 with 1 Axes>"
      ]
     },
     "metadata": {},
     "output_type": "display_data"
    }
   ],
   "source": [
    "# plot metrics during training\n",
    "\n",
    "# make the prediction using the resulting model\n",
    "y_pred = clf_selected.predict(X_test)\n",
    "y_pred_proba = clf_selected.predict_proba(X_test)[:, 1]\n",
    "\n",
    "# print the accuracy score\n",
    "print(\"Accuracy score: \", accuracy_score(y_test, y_pred))\n",
    "\n",
    "# print the confusion matrix\n",
    "print(\"Confusion matrix: \\n\", confusion_matrix(y_test, y_pred))\n",
    "\n",
    "# print the classification report\n",
    "print(\"Classification report: \\n\", classification_report(y_test, y_pred))\n",
    "\n",
    "# print the precision score\n",
    "print(\"Precision score: \", precision_score(y_test, y_pred))\n",
    "\n",
    "# print the recall score\n",
    "print(\"Recall score: \", recall_score(y_test, y_pred))\n",
    "\n",
    "# print the F1 score\n",
    "print(\"F1 score: \", f1_score(y_test, y_pred))\n",
    "\n",
    "# print the ROC - AUC score\n",
    "print(\"ROC - AUC score: \", roc_auc_score(y_test, y_pred_proba))\n",
    "\n",
    "# plot AUC - ROC\n",
    "from sklearn.metrics import roc_curve\n",
    "fpr, tpr, thresholds = roc_curve(y_test, y_pred_proba)\n",
    "plt.figure(figsize=(5, 5))\n",
    "plt.plot(fpr, tpr, label='CatBoostClassifier (area = %0.2f)' % roc_auc_score(y_test, y_pred_proba))\n",
    "plt.plot([0, 1], [0, 1],'r--')\n",
    "plt.title('ROC curve')\n",
    "plt.xlabel('False positive rate')\n",
    "plt.ylabel('True positive rate')\n",
    "plt.legend(loc='lower right')\n",
    "plt.show()\n",
    "\n",
    "# plot feature importance\n",
    "plt.figure(figsize=(10, 10))\n",
    "feat_importances = pd.Series(clf_selected.feature_importances_, index=X.columns)\n",
    "feat_importances.nlargest(20).plot(kind='barh')\n",
    "plt.title(\"Feature importance\")\n",
    "plt.show()\n"
   ]
  },
  {
   "cell_type": "code",
   "execution_count": 29,
   "metadata": {},
   "outputs": [],
   "source": [
    "clf_selected.save_model(\"catboost_selected_model\", format=\"cbm\")"
   ]
  },
  {
   "cell_type": "code",
   "execution_count": null,
   "metadata": {},
   "outputs": [],
   "source": []
  }
 ],
 "metadata": {
  "kernelspec": {
   "display_name": "Python 3 (ipykernel)",
   "language": "python",
   "name": "python3"
  },
  "language_info": {
   "codemirror_mode": {
    "name": "ipython",
    "version": 3
   },
   "file_extension": ".py",
   "mimetype": "text/x-python",
   "name": "python",
   "nbconvert_exporter": "python",
   "pygments_lexer": "ipython3",
   "version": "3.10.12"
  }
 },
 "nbformat": 4,
 "nbformat_minor": 2
}
